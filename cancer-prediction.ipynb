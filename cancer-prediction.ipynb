{
 "cells": [
  {
   "cell_type": "code",
   "execution_count": null,
   "id": "c9fa2e8c-f8dc-45c2-8ecf-d262b0db0485",
   "metadata": {},
   "outputs": [],
   "source": [
    "import pandas as pd \n",
    "import numpy as np \n",
    "import matplotlib.pyplot as plt \n",
    "import seaborn as sns"
   ]
  },
  {
   "cell_type": "code",
   "execution_count": null,
   "id": "40a57a51-e731-44af-bb2c-1a4475d8b8a1",
   "metadata": {},
   "outputs": [],
   "source": [
    "df = pd.read_csv(\"data.csv\")\n",
    "\n",
    "\n",
    "\n",
    "\n"
   ]
  },
  {
   "cell_type": "code",
   "execution_count": null,
   "id": "461e6b6c-aea3-464b-bdbc-81b7f4abaf08",
   "metadata": {},
   "outputs": [],
   "source": [
    "df.head()"
   ]
  },
  {
   "cell_type": "code",
   "execution_count": null,
   "id": "afb85588-3492-4923-8d6c-4ee3e988548b",
   "metadata": {},
   "outputs": [],
   "source": [
    "df.info()"
   ]
  },
  {
   "cell_type": "code",
   "execution_count": null,
   "id": "065f9f5f-c634-4c16-9569-6ad073a668cf",
   "metadata": {},
   "outputs": [],
   "source": [
    "df.isna().sum()"
   ]
  },
  {
   "cell_type": "code",
   "execution_count": null,
   "id": "e3c9169b-037e-4695-b7e5-f97cef74fa30",
   "metadata": {},
   "outputs": [],
   "source": [
    "df.shape"
   ]
  },
  {
   "cell_type": "code",
   "execution_count": null,
   "id": "78ad5801-e8c9-4557-a946-a74f7ca6475a",
   "metadata": {},
   "outputs": [],
   "source": [
    "df=df.dropna(axis=1)"
   ]
  },
  {
   "cell_type": "code",
   "execution_count": null,
   "id": "98d51964-99c4-482b-b6cf-d2b2b8f38fd4",
   "metadata": {},
   "outputs": [],
   "source": [
    "df.shape"
   ]
  },
  {
   "cell_type": "code",
   "execution_count": null,
   "id": "0a6ba4aa-1804-449e-b154-4a27acb117c0",
   "metadata": {},
   "outputs": [],
   "source": [
    "df.info()"
   ]
  },
  {
   "cell_type": "code",
   "execution_count": null,
   "id": "45f2ffc9-aa42-42a7-8047-5c858b709327",
   "metadata": {},
   "outputs": [],
   "source": [
    "df.describe()"
   ]
  },
  {
   "cell_type": "code",
   "execution_count": null,
   "id": "8bb42d92-6e35-48a8-9eeb-38ada1a7a181",
   "metadata": {},
   "outputs": [],
   "source": [
    "df['diagnosis'].value_counts()"
   ]
  },
  {
   "cell_type": "code",
   "execution_count": null,
   "id": "c9736737-6701-4c94-bfd1-a681d90d4a36",
   "metadata": {},
   "outputs": [],
   "source": [
    "sns.countplot(df['diagnosis'],ylabel=\"count\")"
   ]
  },
  {
   "cell_type": "code",
   "execution_count": null,
   "id": "0a127ee6-cad6-4d0e-b15f-f609c4a3a56c",
   "metadata": {},
   "outputs": [],
   "source": [
    "from sklearn.preprocessing import LabelEncoder\n",
    "labelencoder_Y=LabelEncoder()\n",
    "df.iloc[:,1]=labelencoder_Y.fit_transform(df.iloc[:,1].values)"
   ]
  },
  {
   "cell_type": "code",
   "execution_count": null,
   "id": "f7dfc3b3-a4b0-453e-a6fb-56510ce58a1c",
   "metadata": {},
   "outputs": [],
   "source": [
    "df.head()"
   ]
  },
  {
   "cell_type": "code",
   "execution_count": null,
   "id": "3320cd46-4a01-438d-8b49-68f36c36ff19",
   "metadata": {},
   "outputs": [],
   "source": [
    "import seaborn as sns\n",
    "sns.pairplot(df.iloc[:,1:5],hue=\"diagnosis\")"
   ]
  },
  {
   "cell_type": "code",
   "execution_count": null,
   "id": "6c1c7526-23d3-420f-83f6-f06b3f620a0e",
   "metadata": {},
   "outputs": [],
   "source": [
    "df.iloc[:,1:32].corr()"
   ]
  },
  {
   "cell_type": "code",
   "execution_count": null,
   "id": "56036df2-c5b0-4719-8cf7-069ba76b2945",
   "metadata": {},
   "outputs": [],
   "source": [
    "#visualize correlation \n",
    "plt.figure(figsize=(10,10))\n",
    "sns.heatmap(df.iloc[:,1:10].corr(),annot=True,fmt=\".0%\")"
   ]
  },
  {
   "cell_type": "code",
   "execution_count": null,
   "id": "bb3fa1cc-1c47-4487-bee6-9939779ce216",
   "metadata": {},
   "outputs": [],
   "source": [
    "X=df.iloc[:,2:3].values\n",
    "Y=df.iloc[:,1].values\n"
   ]
  },
  {
   "cell_type": "code",
   "execution_count": null,
   "id": "f580e963-a803-4350-8161-b60e94aa3536",
   "metadata": {},
   "outputs": [],
   "source": [
    "from sklearn.model_selection import train_test_split\n",
    "X_train,X_test,Y_train,Y_test=train_test_split(X,Y,test_size=0.20,random_state=0)"
   ]
  },
  {
   "cell_type": "code",
   "execution_count": null,
   "id": "7613b28f-ca57-461e-b702-6027381879bc",
   "metadata": {},
   "outputs": [],
   "source": [
    "#feature scaling\n",
    "from sklearn.preprocessing import StandardScaler\n",
    "X_train=StandardScaler().fit_transform(X_train)\n",
    "X_test=StandardScaler().fit_transform(X_test)\n",
    "\n"
   ]
  },
  {
   "cell_type": "code",
   "execution_count": null,
   "id": "5e138ebe-fc2e-46fa-9d53-2a3a05b2aad4",
   "metadata": {},
   "outputs": [],
   "source": [
    "def models(X_train,Y_train):\n",
    "    # Logistic Regression\n",
    "    from sklearn.linear_model import LogisticRegression\n",
    "    log=LogisticRegression(random_state=0)\n",
    "    log.fit(X_train,Y_train)\n",
    "    \n",
    "    #Decision Tree \n",
    "    from sklearn.tree import DecisionTreeClassifier\n",
    "    tree=DecisionTreeClassifier(random_state=0,criterion=\"entropy\")\n",
    "    tree.fit(X_train,Y_train)\n",
    "    \n",
    "    #Random Forest\n",
    "    from sklearn.ensemble import RandomForestClassifier\n",
    "    forest=RandomForestClassifier(random_state=0,criterion=\"entropy\",n_estimators=10)\n",
    "    forest.fit(X_train,Y_train)\n",
    "    \n",
    "    print('[0]logistic regression accuracy:',log.score(X_train,Y_train))\n",
    "    print('[1]Decision tree accuracy:',tree.score(X_train,Y_train))\n",
    "    print('[2]Random forest accuracy',forest.score(X_train,Y_train))\n",
    "    return log,tree,forest\n",
    "    \n",
    "    \n",
    "    "
   ]
  },
  {
   "cell_type": "code",
   "execution_count": null,
   "id": "ba2bc87a-76af-42f8-8ab4-6eb067114fcc",
   "metadata": {},
   "outputs": [],
   "source": [
    "model=models(X_train,Y_train)"
   ]
  },
  {
   "cell_type": "code",
   "execution_count": null,
   "id": "6352b2e6-5c7c-4ada-ac08-69a031e39f59",
   "metadata": {},
   "outputs": [],
   "source": [
    "# testing model\n",
    "from sklearn.metrics import accuracy_score\n",
    "from sklearn.metrics import classification_report\n",
    "\n",
    "for i in range(len(model)):\n",
    "    print(\"Model\",i)\n",
    "    print(classification_report(Y_test,model[i].predict(X_test)))\n",
    "    print('Accuracy: ',accuracy_score(Y_test,model[i].predict(X_test)))"
   ]
  },
  {
   "cell_type": "code",
   "execution_count": null,
   "id": "728d7840-4449-4b4f-94f1-c722e2bad772",
   "metadata": {},
   "outputs": [],
   "source": [
    "pred=model[0].predict(X_test)\n",
    "print('Predicted values:')\n",
    "\n",
    "print(pred)\n",
    "print('Actual value:')\n",
    "print(Y_test)"
   ]
  },
  {
   "cell_type": "code",
   "execution_count": null,
   "id": "ecc7168d-83a5-49bc-a348-9517498b91ac",
   "metadata": {},
   "outputs": [],
   "source": [
    "from joblib import dump\n",
    "dump(model[0],\"Cancer_model.joblib\")"
   ]
  }
 ],
 "metadata": {
  "kernelspec": {
   "display_name": "Python 3 (ipykernel)",
   "language": "python",
   "name": "python3"
  },
  "language_info": {
   "codemirror_mode": {
    "name": "ipython",
    "version": 3
   },
   "file_extension": ".py",
   "mimetype": "text/x-python",
   "name": "python",
   "nbconvert_exporter": "python",
   "pygments_lexer": "ipython3",
   "version": "3.10.6"
  }
 },
 "nbformat": 4,
 "nbformat_minor": 5
}
